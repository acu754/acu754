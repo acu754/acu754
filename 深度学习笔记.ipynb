{
 "cells": [
  {
   "cell_type": "markdown",
   "id": "fb99dc7f-9c1a-402d-9c91-95edcc444954",
   "metadata": {},
   "source": [
    "## 深度学习笔记\n",
    "**初始化参数**\n",
    "- 2层神经网络\n",
    "- L层神经网络\n",
    "**前向传播**\n",
    "- 计算线性部分\n",
    "- `RELU/SIGMOID` 激活函数\n",
    "- 堆叠LINEAR->RELU的次数，完善模型\n",
    "    \n",
    "**计算损失**\n",
    "\n",
    "\n",
    "**反向传播**\n",
    "- 计算线性部分\n",
    "- `RELU/SIGMOID` 激活函数\n",
    "- 堆叠LINEAR->RELU的次数，完善模型\n",
    "\n",
    "**更新参数**"
   ]
  },
  {
   "cell_type": "code",
   "execution_count": 4,
   "id": "9821f0c2-6fec-4706-9fae-356d93485ce0",
   "metadata": {},
   "outputs": [
    {
     "name": "stdin",
     "output_type": "stream",
     "text": [
      " 3,5435,2345\n"
     ]
    },
    {
     "name": "stdout",
     "output_type": "stream",
     "text": [
      "[3, 5435, 2345]\n"
     ]
    }
   ],
   "source": []
  }
 ],
 "metadata": {
  "kernelspec": {
   "display_name": "Python 3 (ipykernel)",
   "language": "python",
   "name": "python3"
  },
  "language_info": {
   "codemirror_mode": {
    "name": "ipython",
    "version": 3
   },
   "file_extension": ".py",
   "mimetype": "text/x-python",
   "name": "python",
   "nbconvert_exporter": "python",
   "pygments_lexer": "ipython3",
   "version": "3.7.9"
  }
 },
 "nbformat": 4,
 "nbformat_minor": 5
}
