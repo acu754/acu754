{
 "cells": [
  {
   "cell_type": "markdown",
   "id": "106a0603-15b3-4c32-a822-fbee63738bd2",
   "metadata": {
    "tags": []
   },
   "source": [
    "# 一级标题\n",
    "## 二级标题\n",
    "### 三级标题\n",
    "#### 四级标题"
   ]
  },
  {
   "cell_type": "markdown",
   "id": "3168b588-db2c-447e-ad07-cf1352e2101c",
   "metadata": {},
   "source": [
    "*斜体*\n",
    "**粗体**\n",
    "***粗斜体***"
   ]
  },
  {
   "cell_type": "markdown",
   "id": "10f7dcb9-1352-40aa-90f0-bf1a3025bed6",
   "metadata": {},
   "source": [
    "* 实心\n",
    "- 实心"
   ]
  },
  {
   "cell_type": "markdown",
   "id": "2c46d00e-d526-4c02-8a87-e78bcfbf9fe4",
   "metadata": {},
   "source": [
    "1. 序号\n",
    "2. \n",
    "3. "
   ]
  },
  {
   "cell_type": "markdown",
   "id": "eb20292d-f92d-44c3-aaa0-3acf0a7b93a3",
   "metadata": {},
   "source": [
    "> 引用啥 "
   ]
  },
  {
   "cell_type": "markdown",
   "id": "7fdc763c-51d0-430e-8c65-7b4bfe22b320",
   "metadata": {},
   "source": [
    "[链接](https://blog.csdn.net/qq_32334479/article/details/106310792?utm_medium=distribute.pc_relevant.none-task-blog-2~default~baidujs_baidulandingword~default-0.control&spm=1001.2101.3001.4242)"
   ]
  },
  {
   "cell_type": "markdown",
   "id": "8e593690-151c-442c-8b84-382197e4e408",
   "metadata": {},
   "source": [
    "左|中|右\n",
    ":---|:---:|---:\n",
    "内容左对齐|内容居中|内容右对齐"
   ]
  },
  {
   "cell_type": "markdown",
   "id": "38c1152d-a57d-4195-a158-fe46b29ac35b",
   "metadata": {},
   "source": [
    "插入公式，直接用latex语法"
   ]
  },
  {
   "cell_type": "markdown",
   "id": "8c155f8c-1e8f-49d7-8db4-447a05f38cdb",
   "metadata": {},
   "source": [
    "`灰色背景`，可以用来强调？"
   ]
  },
  {
   "cell_type": "markdown",
   "id": "a470ffa8-6003-4cb0-ad26-11c660e65d8b",
   "metadata": {},
   "source": [
    "代码\n",
    "```python\n",
    "import numpy as np\n",
    "\n",
    "np.sum(X)\n",
    "```"
   ]
  },
  {
   "cell_type": "code",
   "execution_count": null,
   "id": "1b2f510d-4e92-46ea-8f26-b03ffd39f142",
   "metadata": {},
   "outputs": [],
   "source": []
  }
 ],
 "metadata": {
  "kernelspec": {
   "display_name": "Python 3 (ipykernel)",
   "language": "python",
   "name": "python3"
  },
  "language_info": {
   "codemirror_mode": {
    "name": "ipython",
    "version": 3
   },
   "file_extension": ".py",
   "mimetype": "text/x-python",
   "name": "python",
   "nbconvert_exporter": "python",
   "pygments_lexer": "ipython3",
   "version": "3.7.9"
  }
 },
 "nbformat": 4,
 "nbformat_minor": 5
}
