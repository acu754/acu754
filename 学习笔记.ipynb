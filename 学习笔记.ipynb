{
 "cells": [
  {
   "cell_type": "markdown",
   "id": "6631feb3-cbf8-4c57-9e04-b9d849ec4ede",
   "metadata": {},
   "source": [
    "## **学习笔记**\n",
    "***"
   ]
  },
  {
   "cell_type": "markdown",
   "id": "29308da1-c440-4754-976e-f433c737d223",
   "metadata": {},
   "source": [
    "**Numpy库一些常用函数。** `numpy`主要是对矩阵进行运算操作。\n",
    "\n",
    "`np.exp(x)` 指数函数e的x次方。\n",
    "\n",
    "`np.array([1,2,3])` 将数据转化为矩阵\n",
    "\n",
    "`np.linalg.norm(x, ord=None, axis=None, keepdims=False)` linalg = linear (线性) + algebra (代数) , norm (范数)。\n",
    "**首先需要注意的是范数是对向量（或者矩阵）的度量，是一个标量（scalar）。**x: 表示矩阵; ord：范数类型; \n",
    "\n",
    "**axis: 维度，0为列操作，1为行操作。**\n",
    "\n",
    "**keepdims = keep dimensions 保持维度**\n",
    "\n",
    "`np.sum(a, axis=None, dtype=None, out=None, keepdims=np._NoValue, initial=np._NoValue)`\n",
    "\n",
    "`np.dot(x,y)` x,y的向量点积（一维），矩阵乘法（多维）\n",
    "\n",
    "`np.zeros(shape, dtype=float, order=‘C’)` shape:形状；\n",
    "dtype:数据类型，可选参数，默认numpy.float64；\n",
    "order:可选参数，c代表与c语言类似，行优先；F代表列优先。\n",
    "\n",
    "`np.random.randn(d0,d1,...,dn)` 生成标准正态分布的样本值\n",
    "\n",
    "`np.random.rand(d0,d1,...,dn)` 生产(0,1)的随机数\n",
    "\n",
    "`np.multiply()` 数组和矩阵**对应位置**相乘，输出与相乘数组/矩阵的大小一致。\n",
    "``` A=([[1, 2],\n",
    "       [3, 4]])       \n",
    "   B=([[0, 1],\n",
    "       [2, 3]])\n",
    "       np.multiply(A,B)=([[ 0,  2],\n",
    "       [ 6, 12]]) ```\n",
    "\n",
    "\n",
    "\n",
    "`np.squeeze(a,axis = None)` 从数组的形状中删除单维度条目，即把shape中为1的维度去掉\n",
    "\n",
    "`np.tanh()` 双曲正切函数\n",
    "\n",
    "`np.mean(X, axis = None)` 计算均值\n",
    "\n",
    "`np.power(x,y)` 计算x的y次方\n",
    "\n",
    "`np.random.seed()` 利用随机数种子，使得每次生成的随机数相同。\n",
    "\n",
    "`np.divide(a,b)` 数组对应位置元素做除法。\n",
    "\n",
    "`X.T` X矩阵的转置\n",
    "\n",
    "`array.reshape()`\n",
    "\n",
    "`array.shape`\n",
    "\n",
    "`abs()` 计算绝对值\n",
    "\n",
    "`list.append()`\n",
    "****\n",
    "\n",
    "**画图plt**\n",
    "\n",
    "`plt.imshow()`\n",
    "\n",
    "`plt.plot()`\n",
    "\n",
    "`plt.ylabel('标题')`\n",
    "\n",
    "`plt.xlabel('标题')`\n",
    "\n",
    "`plt.title('标题')`\n",
    "\n",
    "`plt.show()`\n",
    "\n",
    "`plt.legend()`\n",
    "\n",
    "`plt.scatter()`\n",
    "\n",
    "`plt.figure()`\n",
    "\n",
    "`plt.subplot()`"
   ]
  },
  {
   "cell_type": "code",
   "execution_count": 4,
   "id": "164f0e4d-3fb6-43e5-acc6-3af4694c4695",
   "metadata": {},
   "outputs": [
    {
     "data": {
      "text/plain": [
       "(3, 1)"
      ]
     },
     "execution_count": 4,
     "metadata": {},
     "output_type": "execute_result"
    }
   ],
   "source": [
    "import numpy as np\n",
    "a=np.zeros((3,1))\n",
    "a.shape"
   ]
  },
  {
   "cell_type": "code",
   "execution_count": null,
   "id": "38d5a3d6-01f5-49a7-b5d4-cfe45db4d356",
   "metadata": {},
   "outputs": [],
   "source": []
  }
 ],
 "metadata": {
  "kernelspec": {
   "display_name": "Python 3 (ipykernel)",
   "language": "python",
   "name": "python3"
  },
  "language_info": {
   "codemirror_mode": {
    "name": "ipython",
    "version": 3
   },
   "file_extension": ".py",
   "mimetype": "text/x-python",
   "name": "python",
   "nbconvert_exporter": "python",
   "pygments_lexer": "ipython3",
   "version": "3.7.9"
  }
 },
 "nbformat": 4,
 "nbformat_minor": 5
}
